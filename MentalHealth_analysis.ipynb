{
 "cells": [
  {
   "cell_type": "code",
   "execution_count": 22,
   "id": "0952eaa8-5dd3-4c88-9fed-83dc753a7ce8",
   "metadata": {},
   "outputs": [
    {
     "name": "stderr",
     "output_type": "stream",
     "text": [
      "[Stage 177:(16 + 4) / 147][Stage 178:>(0 + 0) / 147][Stage 180:>  (0 + 0) / 1]\r"
     ]
    }
   ],
   "source": [
    "# importing necessary libraries and start a spark session\n",
    "import numpy as np\n",
    "import pandas as pd\n",
    "import pyspark\n",
    "from pyspark import SparkConf, SparkContext\n",
    "from pyspark.sql import SparkSession, SQLContext\n",
    "from pyspark.sql.types import *\n",
    "from pyspark.sql.functions import *\n",
    "spark_session = SparkSession\\\n",
    "        .builder\\\n",
    "        .master(\"spark://192.168.2.246:7077\") \\\n",
    "        .appName(\"mental_health_analysis\")\\\n",
    "        .config(\"spark.dynamicAllocation.enabled\", True)\\\n",
    "        .config(\"spark.dynamicAllocation.shuffleTracking.enabled\",True)\\\n",
    "        .config(\"spark.shuffle.service.enabled\", False)\\\n",
    "        .config(\"spark.dynamicAllocation.executorIdleTimeout\",\"30s\")\\\n",
    "        .config(\"spark.executor.cores\",2)\\\n",
    "        .config(\"spark.driver.port\",9999)\\\n",
    "        .config(\"spark.blockManager.port\",10005)\\\n",
    "        .getOrCreate()\n",
    "\n",
    "spark_context = spark_session.sparkContext\n",
    "# just show errors\n",
    "spark_context.setLogLevel(\"ERROR\")"
   ]
  },
  {
   "cell_type": "code",
   "execution_count": 23,
   "id": "7c8d5427-a8ce-4ca1-8e80-f76324acba28",
   "metadata": {},
   "outputs": [
    {
     "name": "stderr",
     "output_type": "stream",
     "text": [
      "[Stage 181:====================================================>(146 + 1) / 147]\r"
     ]
    },
    {
     "name": "stdout",
     "output_type": "stream",
     "text": [
      "root\n",
      " |-- author: string (nullable = true)\n",
      " |-- body: string (nullable = true)\n",
      " |-- content: string (nullable = true)\n",
      " |-- content_len: long (nullable = true)\n",
      " |-- id: string (nullable = true)\n",
      " |-- normalizedBody: string (nullable = true)\n",
      " |-- subreddit: string (nullable = true)\n",
      " |-- subreddit_id: string (nullable = true)\n",
      " |-- summary: string (nullable = true)\n",
      " |-- summary_len: long (nullable = true)\n",
      " |-- title: string (nullable = true)\n",
      "\n"
     ]
    },
    {
     "name": "stderr",
     "output_type": "stream",
     "text": [
      "                                                                                \r"
     ]
    }
   ],
   "source": [
    "# read the dataset from hdfs\n",
    "data = spark_session.read.json(\"hdfs://192.168.2.142:9000/user/ubuntu/data/corpus-webis-tldr-17.json\")\n",
    "# print schema\n",
    "data.printSchema()"
   ]
  },
  {
   "cell_type": "code",
   "execution_count": 3,
   "id": "8bcb9b7d-3f32-4376-9a16-144566a177c7",
   "metadata": {},
   "outputs": [
    {
     "name": "stderr",
     "output_type": "stream",
     "text": [
      "[Stage 1:>                                                          (0 + 1) / 1]\r"
     ]
    },
    {
     "name": "stdout",
     "output_type": "stream",
     "text": [
      "+------------------+--------------------+--------------------+-----------+-------+--------------------+--------------------+------------+--------------------+-----------+--------+\n",
      "|            author|                body|             content|content_len|     id|      normalizedBody|           subreddit|subreddit_id|             summary|summary_len|   title|\n",
      "+------------------+--------------------+--------------------+-----------+-------+--------------------+--------------------+------------+--------------------+-----------+--------+\n",
      "|  raysofdarkmatter|I think it should...|I think it should...|        178|c69al3r|I think it should...|                math|    t5_2qh0n|Shifting seasonal...|          8|    NULL|\n",
      "|           Stork13|Art is about the ...|Art is about the ...|        148|c6a9nxd|Art is about the ...|               funny|    t5_2qh33|Personal opinions...|          4|    NULL|\n",
      "|     Cloud_dreamer|Ask me what I thi...|Ask me what I thi...|         76|c6acx4l|Ask me what I thi...|         Borderlands|    t5_2r8cd|insults and slack...|         73|    NULL|\n",
      "|     NightlyReaper|In Mechwarrior On...|In Mechwarrior On...|        213|c8onqew|In Mechwarrior On...|            gamingpc|    t5_2sq2y|Yes, Joysticks in...|         19|    NULL|\n",
      "|    NuffZetPand0ra|You are talking a...|You are talking a...|        404|c6acxvc|You are talking a...|              Diablo|    t5_2qore|Class only items ...|          7|D2 help?|\n",
      "|beatlecreedcabaret|All but one of my...|All but one of my...|        130|c6ahuc4|All but one of my...|   RedditLaqueristas|    t5_2se5q|      OPI Nail Envy!|          3|    NULL|\n",
      "|      nobodysdiary|I could give a sh...|I could give a sh...|        156|c6aggux|I could give a sh...|               apple|    t5_2qh1f|I don't drive lik...|         18|    NULL|\n",
      "|          chrom_ed|So you're saying ...|So you're saying ...|        134|c6agxtv|So you're saying ...|               apple|    t5_2qh1f|you don't seem to...|          9|    NULL|\n",
      "|      gadzookfilms|I love this idea ...|I love this idea ...|        126|c6asb7p|I love this idea ...|RedditFilmsProduc...|    t5_2v33h|How we make money...|          9|    NULL|\n",
      "|      iamacannibal|Theres an entire ...|Theres an entire ...|        181|c6aveyw|Theres an entire ...|       AbandonedPorn|    t5_2sh6t|I'll try and get ...|         25|    NULL|\n",
      "+------------------+--------------------+--------------------+-----------+-------+--------------------+--------------------+------------+--------------------+-----------+--------+\n",
      "only showing top 10 rows\n",
      "\n"
     ]
    },
    {
     "name": "stderr",
     "output_type": "stream",
     "text": [
      "                                                                                \r"
     ]
    }
   ],
   "source": [
    "# show the first 10 rows\n",
    "data.show(10)"
   ]
  },
  {
   "cell_type": "code",
   "execution_count": 5,
   "id": "2f990528-4e25-4052-84e3-b74d7fc356d2",
   "metadata": {},
   "outputs": [
    {
     "data": {
      "text/html": [
       "<div>\n",
       "<style scoped>\n",
       "    .dataframe tbody tr th:only-of-type {\n",
       "        vertical-align: middle;\n",
       "    }\n",
       "\n",
       "    .dataframe tbody tr th {\n",
       "        vertical-align: top;\n",
       "    }\n",
       "\n",
       "    .dataframe thead th {\n",
       "        text-align: right;\n",
       "    }\n",
       "</style>\n",
       "<table border=\"1\" class=\"dataframe\">\n",
       "  <thead>\n",
       "    <tr style=\"text-align: right;\">\n",
       "      <th></th>\n",
       "      <th>author</th>\n",
       "      <th>body</th>\n",
       "      <th>content</th>\n",
       "      <th>content_len</th>\n",
       "      <th>id</th>\n",
       "      <th>normalizedBody</th>\n",
       "      <th>subreddit</th>\n",
       "      <th>subreddit_id</th>\n",
       "      <th>summary</th>\n",
       "      <th>summary_len</th>\n",
       "      <th>title</th>\n",
       "    </tr>\n",
       "  </thead>\n",
       "  <tbody>\n",
       "    <tr>\n",
       "      <th>0</th>\n",
       "      <td>raysofdarkmatter</td>\n",
       "      <td>I think it should be fixed on either UTC stand...</td>\n",
       "      <td>I think it should be fixed on either UTC stand...</td>\n",
       "      <td>178</td>\n",
       "      <td>c69al3r</td>\n",
       "      <td>I think it should be fixed on either UTC stand...</td>\n",
       "      <td>math</td>\n",
       "      <td>t5_2qh0n</td>\n",
       "      <td>Shifting seasonal time is no longer worth it.</td>\n",
       "      <td>8</td>\n",
       "      <td>None</td>\n",
       "    </tr>\n",
       "    <tr>\n",
       "      <th>1</th>\n",
       "      <td>Stork13</td>\n",
       "      <td>Art is about the hardest thing to categorize i...</td>\n",
       "      <td>Art is about the hardest thing to categorize i...</td>\n",
       "      <td>148</td>\n",
       "      <td>c6a9nxd</td>\n",
       "      <td>Art is about the hardest thing to categorize i...</td>\n",
       "      <td>funny</td>\n",
       "      <td>t5_2qh33</td>\n",
       "      <td>Personal opinions 'n shit.</td>\n",
       "      <td>4</td>\n",
       "      <td>None</td>\n",
       "    </tr>\n",
       "    <tr>\n",
       "      <th>2</th>\n",
       "      <td>Cloud_dreamer</td>\n",
       "      <td>Ask me what I think about the Wall Street Jour...</td>\n",
       "      <td>Ask me what I think about the Wall Street Jour...</td>\n",
       "      <td>76</td>\n",
       "      <td>c6acx4l</td>\n",
       "      <td>Ask me what I think about the Wall Street Jour...</td>\n",
       "      <td>Borderlands</td>\n",
       "      <td>t5_2r8cd</td>\n",
       "      <td>insults and slack ass insight. \\n Wall Street ...</td>\n",
       "      <td>73</td>\n",
       "      <td>None</td>\n",
       "    </tr>\n",
       "    <tr>\n",
       "      <th>3</th>\n",
       "      <td>NightlyReaper</td>\n",
       "      <td>In Mechwarrior Online, I have begun to use a m...</td>\n",
       "      <td>In Mechwarrior Online, I have begun to use a m...</td>\n",
       "      <td>213</td>\n",
       "      <td>c8onqew</td>\n",
       "      <td>In Mechwarrior Online, I have begun to use a m...</td>\n",
       "      <td>gamingpc</td>\n",
       "      <td>t5_2sq2y</td>\n",
       "      <td>Yes, Joysticks in modern games have apparently...</td>\n",
       "      <td>19</td>\n",
       "      <td>None</td>\n",
       "    </tr>\n",
       "    <tr>\n",
       "      <th>4</th>\n",
       "      <td>NuffZetPand0ra</td>\n",
       "      <td>You are talking about the Charsi imbue, right?...</td>\n",
       "      <td>You are talking about the Charsi imbue, right?...</td>\n",
       "      <td>404</td>\n",
       "      <td>c6acxvc</td>\n",
       "      <td>You are talking about the Charsi imbue, right?...</td>\n",
       "      <td>Diablo</td>\n",
       "      <td>t5_2qore</td>\n",
       "      <td>Class only items dropped from high-lvl monsters.</td>\n",
       "      <td>7</td>\n",
       "      <td>D2 help?</td>\n",
       "    </tr>\n",
       "    <tr>\n",
       "      <th>5</th>\n",
       "      <td>beatlecreedcabaret</td>\n",
       "      <td>All but one of my nails were in the ballpark o...</td>\n",
       "      <td>All but one of my nails were in the ballpark o...</td>\n",
       "      <td>130</td>\n",
       "      <td>c6ahuc4</td>\n",
       "      <td>All but one of my nails were in the ballpark o...</td>\n",
       "      <td>RedditLaqueristas</td>\n",
       "      <td>t5_2se5q</td>\n",
       "      <td>OPI Nail Envy!</td>\n",
       "      <td>3</td>\n",
       "      <td>None</td>\n",
       "    </tr>\n",
       "    <tr>\n",
       "      <th>6</th>\n",
       "      <td>nobodysdiary</td>\n",
       "      <td>I could give a shit about turn by turn directi...</td>\n",
       "      <td>I could give a shit about turn by turn directi...</td>\n",
       "      <td>156</td>\n",
       "      <td>c6aggux</td>\n",
       "      <td>I could give a shit about turn by turn directi...</td>\n",
       "      <td>apple</td>\n",
       "      <td>t5_2qh1f</td>\n",
       "      <td>I don't drive like  most  people in major citi...</td>\n",
       "      <td>18</td>\n",
       "      <td>None</td>\n",
       "    </tr>\n",
       "    <tr>\n",
       "      <th>7</th>\n",
       "      <td>chrom_ed</td>\n",
       "      <td>So you're saying \"try it, I might not mind los...</td>\n",
       "      <td>So you're saying \"try it, I might not mind los...</td>\n",
       "      <td>134</td>\n",
       "      <td>c6agxtv</td>\n",
       "      <td>So you're saying \"try it, I might not mind los...</td>\n",
       "      <td>apple</td>\n",
       "      <td>t5_2qh1f</td>\n",
       "      <td>you don't seem to understand what's going on h...</td>\n",
       "      <td>9</td>\n",
       "      <td>None</td>\n",
       "    </tr>\n",
       "    <tr>\n",
       "      <th>8</th>\n",
       "      <td>gadzookfilms</td>\n",
       "      <td>I love this idea and most definitely want to h...</td>\n",
       "      <td>I love this idea and most definitely want to h...</td>\n",
       "      <td>126</td>\n",
       "      <td>c6asb7p</td>\n",
       "      <td>I love this idea and most definitely want to h...</td>\n",
       "      <td>RedditFilmsProduction</td>\n",
       "      <td>t5_2v33h</td>\n",
       "      <td>How we make money? How we involve everyone, yo?</td>\n",
       "      <td>9</td>\n",
       "      <td>None</td>\n",
       "    </tr>\n",
       "    <tr>\n",
       "      <th>9</th>\n",
       "      <td>iamacannibal</td>\n",
       "      <td>Theres an entire small town under the lake by ...</td>\n",
       "      <td>Theres an entire small town under the lake by ...</td>\n",
       "      <td>181</td>\n",
       "      <td>c6aveyw</td>\n",
       "      <td>Theres an entire small town under the lake by ...</td>\n",
       "      <td>AbandonedPorn</td>\n",
       "      <td>t5_2sh6t</td>\n",
       "      <td>I'll try and get some similar shots from lake ...</td>\n",
       "      <td>25</td>\n",
       "      <td>None</td>\n",
       "    </tr>\n",
       "  </tbody>\n",
       "</table>\n",
       "</div>"
      ],
      "text/plain": [
       "               author                                               body  \\\n",
       "0    raysofdarkmatter  I think it should be fixed on either UTC stand...   \n",
       "1             Stork13  Art is about the hardest thing to categorize i...   \n",
       "2       Cloud_dreamer  Ask me what I think about the Wall Street Jour...   \n",
       "3       NightlyReaper  In Mechwarrior Online, I have begun to use a m...   \n",
       "4      NuffZetPand0ra  You are talking about the Charsi imbue, right?...   \n",
       "5  beatlecreedcabaret  All but one of my nails were in the ballpark o...   \n",
       "6        nobodysdiary  I could give a shit about turn by turn directi...   \n",
       "7            chrom_ed  So you're saying \"try it, I might not mind los...   \n",
       "8        gadzookfilms  I love this idea and most definitely want to h...   \n",
       "9        iamacannibal  Theres an entire small town under the lake by ...   \n",
       "\n",
       "                                             content  content_len       id  \\\n",
       "0  I think it should be fixed on either UTC stand...          178  c69al3r   \n",
       "1  Art is about the hardest thing to categorize i...          148  c6a9nxd   \n",
       "2  Ask me what I think about the Wall Street Jour...           76  c6acx4l   \n",
       "3  In Mechwarrior Online, I have begun to use a m...          213  c8onqew   \n",
       "4  You are talking about the Charsi imbue, right?...          404  c6acxvc   \n",
       "5  All but one of my nails were in the ballpark o...          130  c6ahuc4   \n",
       "6  I could give a shit about turn by turn directi...          156  c6aggux   \n",
       "7  So you're saying \"try it, I might not mind los...          134  c6agxtv   \n",
       "8  I love this idea and most definitely want to h...          126  c6asb7p   \n",
       "9  Theres an entire small town under the lake by ...          181  c6aveyw   \n",
       "\n",
       "                                      normalizedBody              subreddit  \\\n",
       "0  I think it should be fixed on either UTC stand...                   math   \n",
       "1  Art is about the hardest thing to categorize i...                  funny   \n",
       "2  Ask me what I think about the Wall Street Jour...            Borderlands   \n",
       "3  In Mechwarrior Online, I have begun to use a m...               gamingpc   \n",
       "4  You are talking about the Charsi imbue, right?...                 Diablo   \n",
       "5  All but one of my nails were in the ballpark o...      RedditLaqueristas   \n",
       "6  I could give a shit about turn by turn directi...                  apple   \n",
       "7  So you're saying \"try it, I might not mind los...                  apple   \n",
       "8  I love this idea and most definitely want to h...  RedditFilmsProduction   \n",
       "9  Theres an entire small town under the lake by ...          AbandonedPorn   \n",
       "\n",
       "  subreddit_id                                            summary  \\\n",
       "0     t5_2qh0n      Shifting seasonal time is no longer worth it.   \n",
       "1     t5_2qh33                         Personal opinions 'n shit.   \n",
       "2     t5_2r8cd  insults and slack ass insight. \\n Wall Street ...   \n",
       "3     t5_2sq2y  Yes, Joysticks in modern games have apparently...   \n",
       "4     t5_2qore   Class only items dropped from high-lvl monsters.   \n",
       "5     t5_2se5q                                     OPI Nail Envy!   \n",
       "6     t5_2qh1f  I don't drive like  most  people in major citi...   \n",
       "7     t5_2qh1f  you don't seem to understand what's going on h...   \n",
       "8     t5_2v33h    How we make money? How we involve everyone, yo?   \n",
       "9     t5_2sh6t  I'll try and get some similar shots from lake ...   \n",
       "\n",
       "   summary_len     title  \n",
       "0            8      None  \n",
       "1            4      None  \n",
       "2           73      None  \n",
       "3           19      None  \n",
       "4            7  D2 help?  \n",
       "5            3      None  \n",
       "6           18      None  \n",
       "7            9      None  \n",
       "8            9      None  \n",
       "9           25      None  "
      ]
     },
     "metadata": {},
     "output_type": "display_data"
    }
   ],
   "source": [
    "# convert spark dataframe to Pandas dataframe to show the dataset in a better format\n",
    "data_pandas = data.limit(10).toPandas()\n",
    "display(data_pandas)"
   ]
  },
  {
   "cell_type": "code",
   "execution_count": 7,
   "id": "233e3e01-d71b-47ac-a88b-1d620b5345db",
   "metadata": {},
   "outputs": [
    {
     "name": "stderr",
     "output_type": "stream",
     "text": [
      "[Stage 7:======================================================>(146 + 1) / 147]\r"
     ]
    },
    {
     "name": "stdout",
     "output_type": "stream",
     "text": [
      "The number of total rows of the dataset is: \t 3848330\n"
     ]
    },
    {
     "name": "stderr",
     "output_type": "stream",
     "text": [
      "[Stage 10:=====================================================>(145 + 2) / 147]\r"
     ]
    },
    {
     "name": "stdout",
     "output_type": "stream",
     "text": [
      "The number of different subreddits is: \t 29651\n"
     ]
    },
    {
     "name": "stderr",
     "output_type": "stream",
     "text": [
      "                                                                                \r"
     ]
    }
   ],
   "source": [
    "# print total number of rows\n",
    "print(\"The number of total rows of the dataset is: \\t\", data.count())\n",
    "# print the number of different subreddits\n",
    "print(\"The number of different subreddits is: \\t\", data.select(\"subreddit\").distinct().count())"
   ]
  },
  {
   "cell_type": "code",
   "execution_count": 9,
   "id": "d7adb831-6e3e-4c00-9fe2-26c372d32bea",
   "metadata": {},
   "outputs": [
    {
     "name": "stderr",
     "output_type": "stream",
     "text": [
      "[Stage 16:=====================================================>(146 + 1) / 147]\r"
     ]
    },
    {
     "name": "stdout",
     "output_type": "stream",
     "text": [
      "+-------------------+------+\n",
      "|          subreddit| count|\n",
      "+-------------------+------+\n",
      "|          AskReddit|589947|\n",
      "|      relationships|352049|\n",
      "|    leagueoflegends|109307|\n",
      "|               tifu| 52219|\n",
      "|relationship_advice| 50416|\n",
      "|              trees| 47286|\n",
      "|             gaming| 43851|\n",
      "|            atheism| 43268|\n",
      "|      AdviceAnimals| 40783|\n",
      "|              funny| 40171|\n",
      "|           politics| 36518|\n",
      "|               pics| 35098|\n",
      "|                sex| 28806|\n",
      "|                WTF| 25781|\n",
      "|  explainlikeimfive| 25482|\n",
      "|      todayilearned| 25004|\n",
      "|            Fitness| 22694|\n",
      "|               IAmA| 22689|\n",
      "|          worldnews| 22577|\n",
      "|              DotA2| 22405|\n",
      "+-------------------+------+\n",
      "only showing top 20 rows\n",
      "\n"
     ]
    },
    {
     "name": "stderr",
     "output_type": "stream",
     "text": [
      "                                                                                \r"
     ]
    }
   ],
   "source": [
    "# show the top 20 subreddits\n",
    "top_subreddits = data.groupBy('subreddit').count().orderBy('count', ascending=False)\n",
    "top_subreddits.show(20)"
   ]
  },
  {
   "cell_type": "code",
   "execution_count": 36,
   "id": "71482de3-b1ca-4b38-b54c-2f17787600f6",
   "metadata": {},
   "outputs": [
    {
     "name": "stdout",
     "output_type": "stream",
     "text": [
      "+------------------+--------------------+--------------------+-----------+-------+--------------------+--------------------+------------+--------------------+-----------+--------+\n",
      "|            author|                body|             content|content_len|     id|      normalizedBody|           subreddit|subreddit_id|             summary|summary_len|   title|\n",
      "+------------------+--------------------+--------------------+-----------+-------+--------------------+--------------------+------------+--------------------+-----------+--------+\n",
      "|  raysofdarkmatter|I think it should...|I think it should...|        178|c69al3r|I think it should...|                math|    t5_2qh0n|Shifting seasonal...|          8|    NULL|\n",
      "|           Stork13|Art is about the ...|Art is about the ...|        148|c6a9nxd|Art is about the ...|               funny|    t5_2qh33|Personal opinions...|          4|    NULL|\n",
      "|     Cloud_dreamer|Ask me what I thi...|Ask me what I thi...|         76|c6acx4l|Ask me what I thi...|         Borderlands|    t5_2r8cd|insults and slack...|         73|    NULL|\n",
      "|     NightlyReaper|In Mechwarrior On...|In Mechwarrior On...|        213|c8onqew|In Mechwarrior On...|            gamingpc|    t5_2sq2y|Yes, Joysticks in...|         19|    NULL|\n",
      "|    NuffZetPand0ra|You are talking a...|You are talking a...|        404|c6acxvc|You are talking a...|              Diablo|    t5_2qore|Class only items ...|          7|D2 help?|\n",
      "|beatlecreedcabaret|All but one of my...|All but one of my...|        130|c6ahuc4|All but one of my...|   RedditLaqueristas|    t5_2se5q|      OPI Nail Envy!|          3|    NULL|\n",
      "|      nobodysdiary|I could give a sh...|I could give a sh...|        156|c6aggux|I could give a sh...|               apple|    t5_2qh1f|I don't drive lik...|         18|    NULL|\n",
      "|          chrom_ed|So you're saying ...|So you're saying ...|        134|c6agxtv|So you're saying ...|               apple|    t5_2qh1f|you don't seem to...|          9|    NULL|\n",
      "|      gadzookfilms|I love this idea ...|I love this idea ...|        126|c6asb7p|I love this idea ...|RedditFilmsProduc...|    t5_2v33h|How we make money...|          9|    NULL|\n",
      "|      iamacannibal|Theres an entire ...|Theres an entire ...|        181|c6aveyw|Theres an entire ...|       AbandonedPorn|    t5_2sh6t|I'll try and get ...|         25|    NULL|\n",
      "+------------------+--------------------+--------------------+-----------+-------+--------------------+--------------------+------------+--------------------+-----------+--------+\n",
      "only showing top 10 rows\n",
      "\n"
     ]
    }
   ],
   "source": [
    "# take a subset of the data\n",
    "subset_data = data.limit(100000)\n",
    "subset_data.show(10)"
   ]
  },
  {
   "cell_type": "code",
   "execution_count": 34,
   "id": "1f11584b-7cda-4ac9-a181-4c0b639c6fb4",
   "metadata": {},
   "outputs": [
    {
     "name": "stderr",
     "output_type": "stream",
     "text": [
      "                                                                                \r"
     ]
    },
    {
     "data": {
      "text/plain": [
       "50000"
      ]
     },
     "execution_count": 34,
     "metadata": {},
     "output_type": "execute_result"
    }
   ],
   "source": [
    "subset_data.count()"
   ]
  },
  {
   "cell_type": "code",
   "execution_count": 31,
   "id": "56236743-75a9-40ef-8477-18465b81fefe",
   "metadata": {},
   "outputs": [
    {
     "name": "stderr",
     "output_type": "stream",
     "text": [
      "                                                                                \r"
     ]
    }
   ],
   "source": [
    "from pyspark.sql.functions import col\n",
    "\n",
    "# defining keywords related to mental health, in tuple format\n",
    "keywords = [\n",
    "    'anxiety', 'panic', 'phobia', \n",
    "    'depression', 'bipolar', 'moodswings', 'mood_swings',\n",
    "    'schizophrenia', 'delusions', 'hallucinations',\n",
    "    'anorexia', 'bulimia', 'binge eating', 'binge_eating', 'addiction', \n",
    "    'obsessivecompulsivedisorder', 'obsessive_compulsive_disorder',\n",
    "    'OCD', 'borderline', 'antisocial', \n",
    "    'obsessive', 'compulsive', 'narcissistic',\n",
    "    'PTSD', 'trauma', 'stress',\n",
    "    'dissociative identity', 'dissociative_identity', 'amnesia',\n",
    "    'psychotic', 'depressive', 'suicide',\n",
    "    'mentalhealth', 'mental_health',\n",
    "]"
   ]
  },
  {
   "cell_type": "code",
   "execution_count": 37,
   "id": "50decb4a-1c88-486a-9f04-c42a44f71d61",
   "metadata": {},
   "outputs": [
    {
     "name": "stderr",
     "output_type": "stream",
     "text": [
      "[Stage 254:====================================================>(146 + 1) / 147]\r"
     ]
    },
    {
     "name": "stdout",
     "output_type": "stream",
     "text": [
      "+--------------------+-----+\n",
      "|             keyword|count|\n",
      "+--------------------+-----+\n",
      "|          depression|   74|\n",
      "|             anxiety|   34|\n",
      "|             bipolar|   23|\n",
      "|        mentalhealth|    4|\n",
      "|       schizophrenia|    3|\n",
      "|           addiction|    1|\n",
      "|             amnesia|    1|\n",
      "|           delusions| NULL|\n",
      "|obsessive_compuls...| NULL|\n",
      "|      hallucinations| NULL|\n",
      "|              trauma| NULL|\n",
      "|            anorexia| NULL|\n",
      "|               panic| NULL|\n",
      "|             bulimia| NULL|\n",
      "|              stress| NULL|\n",
      "|        binge eating| NULL|\n",
      "|                 OCD| NULL|\n",
      "|        binge_eating| NULL|\n",
      "|dissociative iden...| NULL|\n",
      "|obsessivecompulsi...| NULL|\n",
      "+--------------------+-----+\n",
      "only showing top 20 rows\n",
      "\n"
     ]
    },
    {
     "name": "stderr",
     "output_type": "stream",
     "text": [
      "                                                                                \r"
     ]
    }
   ],
   "source": [
    "from pyspark.sql.functions import lower, trim\n",
    "\n",
    "# preprocess subreddit column\n",
    "subset_data = subset_data.withColumn('subreddit', lower(trim(col('subreddit'))))\n",
    "\n",
    "# convert keywords to DataFrame\n",
    "keywords_df = spark_session.createDataFrame([(k,) for k in keywords], ['keyword'])\n",
    "\n",
    "# Filter data using isin() function\n",
    "keyword_counts_data = subset_data.filter(lower(col('subreddit')).isin(keywords)).\\\n",
    "                        groupBy('subreddit').count().\\\n",
    "                        join(keywords_df, lower(col('subreddit')) == col('keyword'), 'right').\\\n",
    "                        select('keyword', 'count').\\\n",
    "                        orderBy('count', ascending=False)\n",
    "\n",
    "keyword_counts_data.show()"
   ]
  },
  {
   "cell_type": "code",
   "execution_count": 43,
   "id": "a523da08-74c0-4b27-83a3-d7d39af6bd4f",
   "metadata": {},
   "outputs": [
    {
     "data": {
      "image/png": "[encoded data removed]",
      "text/plain": [
       "<Figure size 800x600 with 1 Axes>"
      ]
     },
     "metadata": {},
     "output_type": "display_data"
    }
   ],
   "source": [
    "import matplotlib.pyplot as plt\n",
    "import numpy as np\n",
    "\n",
    "# convert PySpark dataframe to pandas datafraame\n",
    "keyword_counts_pandas = keyword_counts_data.toPandas()\n",
    "\n",
    "# generate random colors for each keyword\n",
    "total_keywords = len(keyword_counts_pandas)\n",
    "colors_list = np.random.rand(total_keywords, 3)  # Generate random RGB colors\n",
    "\n",
    "plt.figure(figsize=(8, 6))\n",
    "plt.bar(keyword_counts_pandas['keyword'], keyword_counts_pandas['count'], color=colors_list)\n",
    "plt.xlabel('Keyword')\n",
    "plt.ylabel('Count')\n",
    "plt.title('Count of Keywords')\n",
    "plt.xticks(rotation=90)\n",
    "plt.show()\n"
   ]
  }
 ],
 "metadata": {
  "kernelspec": {
   "display_name": "Python 3 (ipykernel)",
   "language": "python",
   "name": "python3"
  },
  "language_info": {
   "codemirror_mode": {
    "name": "ipython",
    "version": 3
   },
   "file_extension": ".py",
   "mimetype": "text/x-python",
   "name": "python",
   "nbconvert_exporter": "python",
   "pygments_lexer": "ipython3",
   "version": "3.8.10"
  }
 },
 "nbformat": 4,
 "nbformat_minor": 5
}
