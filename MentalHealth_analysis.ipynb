{
 "cells": [
  {
   "cell_type": "code",
   "execution_count": 2,
   "id": "0952eaa8-5dd3-4c88-9fed-83dc753a7ce8",
   "metadata": {},
   "outputs": [
    {
     "name": "stderr",
     "output_type": "stream",
     "text": [
      "Setting default log level to \"WARN\".\n",
      "To adjust logging level use sc.setLogLevel(newLevel). For SparkR, use setLogLevel(newLevel).\n",
      "24/03/07 19:10:54 WARN NativeCodeLoader: Unable to load native-hadoop library for your platform... using builtin-java classes where applicable\n"
     ]
    }
   ],
   "source": [
    "# importing necessary libraries and start a spark session\n",
    "import numpy as np\n",
    "import pandas as pd\n",
    "import pyspark\n",
    "from pyspark import SparkConf, SparkContext\n",
    "from pyspark.sql import SparkSession, SQLContext\n",
    "from pyspark.sql.types import *\n",
    "from pyspark.sql.functions import *\n",
    "spark_session = SparkSession\\\n",
    "        .builder\\\n",
    "        .master(\"spark://192.168.2.246:7077\") \\\n",
    "        .appName(\"mental_health_analysis\")\\\n",
    "        .config(\"spark.dynamicAllocation.enabled\", True)\\\n",
    "        .config(\"spark.dynamicAllocation.shuffleTracking.enabled\",True)\\\n",
    "        .config(\"spark.shuffle.service.enabled\", False)\\\n",
    "        .config(\"spark.dynamicAllocation.executorIdleTimeout\",\"30s\")\\\n",
    "        .config(\"spark.executor.cores\",2)\\\n",
    "        .config(\"spark.driver.port\",9999)\\\n",
    "        .config(\"spark.blockManager.port\",10005)\\\n",
    "        .getOrCreate()\n",
    "\n",
    "spark_context = spark_session.sparkContext\n",
    "# just show errors\n",
    "spark_context.setLogLevel(\"ERROR\")"
   ]
  },
  {
   "cell_type": "code",
   "execution_count": 3,
   "id": "7c8d5427-a8ce-4ca1-8e80-f76324acba28",
   "metadata": {},
   "outputs": [
    {
     "name": "stderr",
     "output_type": "stream",
     "text": [
      "                                                                                \r"
     ]
    }
   ],
   "source": [
    "# read the dataset from hdfs\n",
    "data = spark_session.read.json(\"hdfs://192.168.2.142:9000/user/ubuntu/data/corpus-webis-tldr-17.json\")\n",
    "# print schema\n",
    "# data.printSchema()"
   ]
  },
  {
   "cell_type": "code",
   "execution_count": 28,
   "id": "8bcb9b7d-3f32-4376-9a16-144566a177c7",
   "metadata": {},
   "outputs": [
    {
     "name": "stdout",
     "output_type": "stream",
     "text": [
      "+------------------+--------------------+--------------------+-----------+-------+--------------------+--------------------+------------+--------------------+-----------+--------+\n",
      "|            author|                body|             content|content_len|     id|      normalizedBody|           subreddit|subreddit_id|             summary|summary_len|   title|\n",
      "+------------------+--------------------+--------------------+-----------+-------+--------------------+--------------------+------------+--------------------+-----------+--------+\n",
      "|  raysofdarkmatter|I think it should...|I think it should...|        178|c69al3r|I think it should...|                math|    t5_2qh0n|Shifting seasonal...|          8|    NULL|\n",
      "|           Stork13|Art is about the ...|Art is about the ...|        148|c6a9nxd|Art is about the ...|               funny|    t5_2qh33|Personal opinions...|          4|    NULL|\n",
      "|     Cloud_dreamer|Ask me what I thi...|Ask me what I thi...|         76|c6acx4l|Ask me what I thi...|         Borderlands|    t5_2r8cd|insults and slack...|         73|    NULL|\n",
      "|     NightlyReaper|In Mechwarrior On...|In Mechwarrior On...|        213|c8onqew|In Mechwarrior On...|            gamingpc|    t5_2sq2y|Yes, Joysticks in...|         19|    NULL|\n",
      "|    NuffZetPand0ra|You are talking a...|You are talking a...|        404|c6acxvc|You are talking a...|              Diablo|    t5_2qore|Class only items ...|          7|D2 help?|\n",
      "|beatlecreedcabaret|All but one of my...|All but one of my...|        130|c6ahuc4|All but one of my...|   RedditLaqueristas|    t5_2se5q|      OPI Nail Envy!|          3|    NULL|\n",
      "|      nobodysdiary|I could give a sh...|I could give a sh...|        156|c6aggux|I could give a sh...|               apple|    t5_2qh1f|I don't drive lik...|         18|    NULL|\n",
      "|          chrom_ed|So you're saying ...|So you're saying ...|        134|c6agxtv|So you're saying ...|               apple|    t5_2qh1f|you don't seem to...|          9|    NULL|\n",
      "|      gadzookfilms|I love this idea ...|I love this idea ...|        126|c6asb7p|I love this idea ...|RedditFilmsProduc...|    t5_2v33h|How we make money...|          9|    NULL|\n",
      "|      iamacannibal|Theres an entire ...|Theres an entire ...|        181|c6aveyw|Theres an entire ...|       AbandonedPorn|    t5_2sh6t|I'll try and get ...|         25|    NULL|\n",
      "+------------------+--------------------+--------------------+-----------+-------+--------------------+--------------------+------------+--------------------+-----------+--------+\n",
      "only showing top 10 rows\n",
      "\n"
     ]
    },
    {
     "name": "stderr",
     "output_type": "stream",
     "text": [
      "                                                                                \r"
     ]
    }
   ],
   "source": [
    "# show the first 10 rows\n",
    "data.show(10)"
   ]
  },
  {
   "cell_type": "code",
   "execution_count": 29,
   "id": "2f990528-4e25-4052-84e3-b74d7fc356d2",
   "metadata": {},
   "outputs": [
    {
     "data": {
      "text/html": [
       "<div>\n",
       "<style scoped>\n",
       "    .dataframe tbody tr th:only-of-type {\n",
       "        vertical-align: middle;\n",
       "    }\n",
       "\n",
       "    .dataframe tbody tr th {\n",
       "        vertical-align: top;\n",
       "    }\n",
       "\n",
       "    .dataframe thead th {\n",
       "        text-align: right;\n",
       "    }\n",
       "</style>\n",
       "<table border=\"1\" class=\"dataframe\">\n",
       "  <thead>\n",
       "    <tr style=\"text-align: right;\">\n",
       "      <th></th>\n",
       "      <th>author</th>\n",
       "      <th>body</th>\n",
       "      <th>content</th>\n",
       "      <th>content_len</th>\n",
       "      <th>id</th>\n",
       "      <th>normalizedBody</th>\n",
       "      <th>subreddit</th>\n",
       "      <th>subreddit_id</th>\n",
       "      <th>summary</th>\n",
       "      <th>summary_len</th>\n",
       "      <th>title</th>\n",
       "    </tr>\n",
       "  </thead>\n",
       "  <tbody>\n",
       "    <tr>\n",
       "      <th>0</th>\n",
       "      <td>raysofdarkmatter</td>\n",
       "      <td>I think it should be fixed on either UTC stand...</td>\n",
       "      <td>I think it should be fixed on either UTC stand...</td>\n",
       "      <td>178</td>\n",
       "      <td>c69al3r</td>\n",
       "      <td>I think it should be fixed on either UTC stand...</td>\n",
       "      <td>math</td>\n",
       "      <td>t5_2qh0n</td>\n",
       "      <td>Shifting seasonal time is no longer worth it.</td>\n",
       "      <td>8</td>\n",
       "      <td>None</td>\n",
       "    </tr>\n",
       "    <tr>\n",
       "      <th>1</th>\n",
       "      <td>Stork13</td>\n",
       "      <td>Art is about the hardest thing to categorize i...</td>\n",
       "      <td>Art is about the hardest thing to categorize i...</td>\n",
       "      <td>148</td>\n",
       "      <td>c6a9nxd</td>\n",
       "      <td>Art is about the hardest thing to categorize i...</td>\n",
       "      <td>funny</td>\n",
       "      <td>t5_2qh33</td>\n",
       "      <td>Personal opinions 'n shit.</td>\n",
       "      <td>4</td>\n",
       "      <td>None</td>\n",
       "    </tr>\n",
       "    <tr>\n",
       "      <th>2</th>\n",
       "      <td>Cloud_dreamer</td>\n",
       "      <td>Ask me what I think about the Wall Street Jour...</td>\n",
       "      <td>Ask me what I think about the Wall Street Jour...</td>\n",
       "      <td>76</td>\n",
       "      <td>c6acx4l</td>\n",
       "      <td>Ask me what I think about the Wall Street Jour...</td>\n",
       "      <td>Borderlands</td>\n",
       "      <td>t5_2r8cd</td>\n",
       "      <td>insults and slack ass insight. \\n Wall Street ...</td>\n",
       "      <td>73</td>\n",
       "      <td>None</td>\n",
       "    </tr>\n",
       "    <tr>\n",
       "      <th>3</th>\n",
       "      <td>NightlyReaper</td>\n",
       "      <td>In Mechwarrior Online, I have begun to use a m...</td>\n",
       "      <td>In Mechwarrior Online, I have begun to use a m...</td>\n",
       "      <td>213</td>\n",
       "      <td>c8onqew</td>\n",
       "      <td>In Mechwarrior Online, I have begun to use a m...</td>\n",
       "      <td>gamingpc</td>\n",
       "      <td>t5_2sq2y</td>\n",
       "      <td>Yes, Joysticks in modern games have apparently...</td>\n",
       "      <td>19</td>\n",
       "      <td>None</td>\n",
       "    </tr>\n",
       "    <tr>\n",
       "      <th>4</th>\n",
       "      <td>NuffZetPand0ra</td>\n",
       "      <td>You are talking about the Charsi imbue, right?...</td>\n",
       "      <td>You are talking about the Charsi imbue, right?...</td>\n",
       "      <td>404</td>\n",
       "      <td>c6acxvc</td>\n",
       "      <td>You are talking about the Charsi imbue, right?...</td>\n",
       "      <td>Diablo</td>\n",
       "      <td>t5_2qore</td>\n",
       "      <td>Class only items dropped from high-lvl monsters.</td>\n",
       "      <td>7</td>\n",
       "      <td>D2 help?</td>\n",
       "    </tr>\n",
       "    <tr>\n",
       "      <th>5</th>\n",
       "      <td>beatlecreedcabaret</td>\n",
       "      <td>All but one of my nails were in the ballpark o...</td>\n",
       "      <td>All but one of my nails were in the ballpark o...</td>\n",
       "      <td>130</td>\n",
       "      <td>c6ahuc4</td>\n",
       "      <td>All but one of my nails were in the ballpark o...</td>\n",
       "      <td>RedditLaqueristas</td>\n",
       "      <td>t5_2se5q</td>\n",
       "      <td>OPI Nail Envy!</td>\n",
       "      <td>3</td>\n",
       "      <td>None</td>\n",
       "    </tr>\n",
       "    <tr>\n",
       "      <th>6</th>\n",
       "      <td>nobodysdiary</td>\n",
       "      <td>I could give a shit about turn by turn directi...</td>\n",
       "      <td>I could give a shit about turn by turn directi...</td>\n",
       "      <td>156</td>\n",
       "      <td>c6aggux</td>\n",
       "      <td>I could give a shit about turn by turn directi...</td>\n",
       "      <td>apple</td>\n",
       "      <td>t5_2qh1f</td>\n",
       "      <td>I don't drive like  most  people in major citi...</td>\n",
       "      <td>18</td>\n",
       "      <td>None</td>\n",
       "    </tr>\n",
       "    <tr>\n",
       "      <th>7</th>\n",
       "      <td>chrom_ed</td>\n",
       "      <td>So you're saying \"try it, I might not mind los...</td>\n",
       "      <td>So you're saying \"try it, I might not mind los...</td>\n",
       "      <td>134</td>\n",
       "      <td>c6agxtv</td>\n",
       "      <td>So you're saying \"try it, I might not mind los...</td>\n",
       "      <td>apple</td>\n",
       "      <td>t5_2qh1f</td>\n",
       "      <td>you don't seem to understand what's going on h...</td>\n",
       "      <td>9</td>\n",
       "      <td>None</td>\n",
       "    </tr>\n",
       "    <tr>\n",
       "      <th>8</th>\n",
       "      <td>gadzookfilms</td>\n",
       "      <td>I love this idea and most definitely want to h...</td>\n",
       "      <td>I love this idea and most definitely want to h...</td>\n",
       "      <td>126</td>\n",
       "      <td>c6asb7p</td>\n",
       "      <td>I love this idea and most definitely want to h...</td>\n",
       "      <td>RedditFilmsProduction</td>\n",
       "      <td>t5_2v33h</td>\n",
       "      <td>How we make money? How we involve everyone, yo?</td>\n",
       "      <td>9</td>\n",
       "      <td>None</td>\n",
       "    </tr>\n",
       "    <tr>\n",
       "      <th>9</th>\n",
       "      <td>iamacannibal</td>\n",
       "      <td>Theres an entire small town under the lake by ...</td>\n",
       "      <td>Theres an entire small town under the lake by ...</td>\n",
       "      <td>181</td>\n",
       "      <td>c6aveyw</td>\n",
       "      <td>Theres an entire small town under the lake by ...</td>\n",
       "      <td>AbandonedPorn</td>\n",
       "      <td>t5_2sh6t</td>\n",
       "      <td>I'll try and get some similar shots from lake ...</td>\n",
       "      <td>25</td>\n",
       "      <td>None</td>\n",
       "    </tr>\n",
       "  </tbody>\n",
       "</table>\n",
       "</div>"
      ],
      "text/plain": [
       "               author                                               body  \\\n",
       "0    raysofdarkmatter  I think it should be fixed on either UTC stand...   \n",
       "1             Stork13  Art is about the hardest thing to categorize i...   \n",
       "2       Cloud_dreamer  Ask me what I think about the Wall Street Jour...   \n",
       "3       NightlyReaper  In Mechwarrior Online, I have begun to use a m...   \n",
       "4      NuffZetPand0ra  You are talking about the Charsi imbue, right?...   \n",
       "5  beatlecreedcabaret  All but one of my nails were in the ballpark o...   \n",
       "6        nobodysdiary  I could give a shit about turn by turn directi...   \n",
       "7            chrom_ed  So you're saying \"try it, I might not mind los...   \n",
       "8        gadzookfilms  I love this idea and most definitely want to h...   \n",
       "9        iamacannibal  Theres an entire small town under the lake by ...   \n",
       "\n",
       "                                             content  content_len       id  \\\n",
       "0  I think it should be fixed on either UTC stand...          178  c69al3r   \n",
       "1  Art is about the hardest thing to categorize i...          148  c6a9nxd   \n",
       "2  Ask me what I think about the Wall Street Jour...           76  c6acx4l   \n",
       "3  In Mechwarrior Online, I have begun to use a m...          213  c8onqew   \n",
       "4  You are talking about the Charsi imbue, right?...          404  c6acxvc   \n",
       "5  All but one of my nails were in the ballpark o...          130  c6ahuc4   \n",
       "6  I could give a shit about turn by turn directi...          156  c6aggux   \n",
       "7  So you're saying \"try it, I might not mind los...          134  c6agxtv   \n",
       "8  I love this idea and most definitely want to h...          126  c6asb7p   \n",
       "9  Theres an entire small town under the lake by ...          181  c6aveyw   \n",
       "\n",
       "                                      normalizedBody              subreddit  \\\n",
       "0  I think it should be fixed on either UTC stand...                   math   \n",
       "1  Art is about the hardest thing to categorize i...                  funny   \n",
       "2  Ask me what I think about the Wall Street Jour...            Borderlands   \n",
       "3  In Mechwarrior Online, I have begun to use a m...               gamingpc   \n",
       "4  You are talking about the Charsi imbue, right?...                 Diablo   \n",
       "5  All but one of my nails were in the ballpark o...      RedditLaqueristas   \n",
       "6  I could give a shit about turn by turn directi...                  apple   \n",
       "7  So you're saying \"try it, I might not mind los...                  apple   \n",
       "8  I love this idea and most definitely want to h...  RedditFilmsProduction   \n",
       "9  Theres an entire small town under the lake by ...          AbandonedPorn   \n",
       "\n",
       "  subreddit_id                                            summary  \\\n",
       "0     t5_2qh0n      Shifting seasonal time is no longer worth it.   \n",
       "1     t5_2qh33                         Personal opinions 'n shit.   \n",
       "2     t5_2r8cd  insults and slack ass insight. \\n Wall Street ...   \n",
       "3     t5_2sq2y  Yes, Joysticks in modern games have apparently...   \n",
       "4     t5_2qore   Class only items dropped from high-lvl monsters.   \n",
       "5     t5_2se5q                                     OPI Nail Envy!   \n",
       "6     t5_2qh1f  I don't drive like  most  people in major citi...   \n",
       "7     t5_2qh1f  you don't seem to understand what's going on h...   \n",
       "8     t5_2v33h    How we make money? How we involve everyone, yo?   \n",
       "9     t5_2sh6t  I'll try and get some similar shots from lake ...   \n",
       "\n",
       "   summary_len     title  \n",
       "0            8      None  \n",
       "1            4      None  \n",
       "2           73      None  \n",
       "3           19      None  \n",
       "4            7  D2 help?  \n",
       "5            3      None  \n",
       "6           18      None  \n",
       "7            9      None  \n",
       "8            9      None  \n",
       "9           25      None  "
      ]
     },
     "metadata": {},
     "output_type": "display_data"
    }
   ],
   "source": [
    "# convert spark dataframe to Pandas dataframe to show the dataset in a better format\n",
    "data_pandas = data.limit(10).toPandas()\n",
    "display(data_pandas)"
   ]
  },
  {
   "cell_type": "code",
   "execution_count": 30,
   "id": "233e3e01-d71b-47ac-a88b-1d620b5345db",
   "metadata": {},
   "outputs": [
    {
     "name": "stderr",
     "output_type": "stream",
     "text": [
      "                                                                                \r"
     ]
    },
    {
     "name": "stdout",
     "output_type": "stream",
     "text": [
      "The number of total rows of the dataset is: \t 3848330\n"
     ]
    },
    {
     "name": "stderr",
     "output_type": "stream",
     "text": [
      "[Stage 53:=====================================================>(146 + 1) / 147]\r"
     ]
    },
    {
     "name": "stdout",
     "output_type": "stream",
     "text": [
      "The number of different subreddits is: \t 29651\n"
     ]
    },
    {
     "name": "stderr",
     "output_type": "stream",
     "text": [
      "                                                                                \r"
     ]
    }
   ],
   "source": [
    "# print total number of rows\n",
    "print(\"The number of total rows of the dataset is: \\t\", data.count())\n",
    "# print the number of different subreddits\n",
    "print(\"The number of different subreddits is: \\t\", data.select(\"subreddit\").distinct().count())"
   ]
  },
  {
   "cell_type": "code",
   "execution_count": 31,
   "id": "d7adb831-6e3e-4c00-9fe2-26c372d32bea",
   "metadata": {},
   "outputs": [
    {
     "name": "stderr",
     "output_type": "stream",
     "text": [
      "[Stage 59:=====================================================>(146 + 1) / 147]\r"
     ]
    },
    {
     "name": "stdout",
     "output_type": "stream",
     "text": [
      "+-------------------+------+\n",
      "|          subreddit| count|\n",
      "+-------------------+------+\n",
      "|          AskReddit|589947|\n",
      "|      relationships|352049|\n",
      "|    leagueoflegends|109307|\n",
      "|               tifu| 52219|\n",
      "|relationship_advice| 50416|\n",
      "|              trees| 47286|\n",
      "|             gaming| 43851|\n",
      "|            atheism| 43268|\n",
      "|      AdviceAnimals| 40783|\n",
      "|              funny| 40171|\n",
      "|           politics| 36518|\n",
      "|               pics| 35098|\n",
      "|                sex| 28806|\n",
      "|                WTF| 25781|\n",
      "|  explainlikeimfive| 25482|\n",
      "|      todayilearned| 25004|\n",
      "|            Fitness| 22694|\n",
      "|               IAmA| 22689|\n",
      "|          worldnews| 22577|\n",
      "|              DotA2| 22405|\n",
      "+-------------------+------+\n",
      "only showing top 20 rows\n",
      "\n"
     ]
    },
    {
     "name": "stderr",
     "output_type": "stream",
     "text": [
      "                                                                                \r"
     ]
    }
   ],
   "source": [
    "# show the top 20 subreddits\n",
    "top_subreddits = data.groupBy('subreddit').count().orderBy('count', ascending=False)\n",
    "top_subreddits.show(20)"
   ]
  },
  {
   "cell_type": "code",
   "execution_count": 4,
   "id": "71482de3-b1ca-4b38-b54c-2f17787600f6",
   "metadata": {},
   "outputs": [
    {
     "name": "stderr",
     "output_type": "stream",
     "text": [
      "[Stage 1:>                                                          (0 + 1) / 1]\r"
     ]
    },
    {
     "name": "stdout",
     "output_type": "stream",
     "text": [
      "+------------------+--------------------+--------------------+-----------+-------+--------------------+--------------------+------------+--------------------+-----------+--------+\n",
      "|            author|                body|             content|content_len|     id|      normalizedBody|           subreddit|subreddit_id|             summary|summary_len|   title|\n",
      "+------------------+--------------------+--------------------+-----------+-------+--------------------+--------------------+------------+--------------------+-----------+--------+\n",
      "|  raysofdarkmatter|I think it should...|I think it should...|        178|c69al3r|I think it should...|                math|    t5_2qh0n|Shifting seasonal...|          8|    NULL|\n",
      "|           Stork13|Art is about the ...|Art is about the ...|        148|c6a9nxd|Art is about the ...|               funny|    t5_2qh33|Personal opinions...|          4|    NULL|\n",
      "|     Cloud_dreamer|Ask me what I thi...|Ask me what I thi...|         76|c6acx4l|Ask me what I thi...|         Borderlands|    t5_2r8cd|insults and slack...|         73|    NULL|\n",
      "|     NightlyReaper|In Mechwarrior On...|In Mechwarrior On...|        213|c8onqew|In Mechwarrior On...|            gamingpc|    t5_2sq2y|Yes, Joysticks in...|         19|    NULL|\n",
      "|    NuffZetPand0ra|You are talking a...|You are talking a...|        404|c6acxvc|You are talking a...|              Diablo|    t5_2qore|Class only items ...|          7|D2 help?|\n",
      "|beatlecreedcabaret|All but one of my...|All but one of my...|        130|c6ahuc4|All but one of my...|   RedditLaqueristas|    t5_2se5q|      OPI Nail Envy!|          3|    NULL|\n",
      "|      nobodysdiary|I could give a sh...|I could give a sh...|        156|c6aggux|I could give a sh...|               apple|    t5_2qh1f|I don't drive lik...|         18|    NULL|\n",
      "|          chrom_ed|So you're saying ...|So you're saying ...|        134|c6agxtv|So you're saying ...|               apple|    t5_2qh1f|you don't seem to...|          9|    NULL|\n",
      "|      gadzookfilms|I love this idea ...|I love this idea ...|        126|c6asb7p|I love this idea ...|RedditFilmsProduc...|    t5_2v33h|How we make money...|          9|    NULL|\n",
      "|      iamacannibal|Theres an entire ...|Theres an entire ...|        181|c6aveyw|Theres an entire ...|       AbandonedPorn|    t5_2sh6t|I'll try and get ...|         25|    NULL|\n",
      "+------------------+--------------------+--------------------+-----------+-------+--------------------+--------------------+------------+--------------------+-----------+--------+\n",
      "only showing top 10 rows\n",
      "\n"
     ]
    },
    {
     "name": "stderr",
     "output_type": "stream",
     "text": [
      "                                                                                \r"
     ]
    }
   ],
   "source": [
    "# take a subset of the data\n",
    "subset_data = data.limit(100000)\n",
    "subset_data.show(10)"
   ]
  },
  {
   "cell_type": "code",
   "execution_count": 33,
   "id": "1f11584b-7cda-4ac9-a181-4c0b639c6fb4",
   "metadata": {},
   "outputs": [
    {
     "name": "stderr",
     "output_type": "stream",
     "text": [
      "                                                                                \r"
     ]
    },
    {
     "data": {
      "text/plain": [
       "100000"
      ]
     },
     "execution_count": 33,
     "metadata": {},
     "output_type": "execute_result"
    }
   ],
   "source": [
    "subset_data.count()"
   ]
  },
  {
   "cell_type": "code",
   "execution_count": 8,
   "id": "56236743-75a9-40ef-8477-18465b81fefe",
   "metadata": {},
   "outputs": [],
   "source": [
    "from pyspark.sql.functions import col\n",
    "\n",
    "# defining keywords related to mental health, in tuple format\n",
    "general_keywords = [\n",
    "    'anxiety', 'panic', 'phobia', \n",
    "    'depression', 'bipolar', 'moodswings', 'mood_swings', 'mood swings'\n",
    "    'schizophrenia', 'delusions', 'hallucinations',\n",
    "    'anorexia', 'bulimia','binge_eating', 'addiction', \n",
    "    'obsessivecompulsivedisorder', 'obsessive_compulsive_disorder', 'obsessive compulsive disorder'\n",
    "    'OCD', 'borderline', 'antisocial', \n",
    "    'narcissistic','PTSD', 'trauma', 'stress',\n",
    "    'dissociative_identity', 'amnesia',\n",
    "    'psychotic', 'depressive', 'suicide', 'suicidal'\n",
    "    'mentalhealth', 'mental_health', 'mental health'\n",
    "]\n",
    "\n",
    "# mental_disorders = [\n",
    "#     'anxiety', 'panic', 'phobia', \n",
    "#     'depression', 'bipolar', 'mood swings',\n",
    "#     'schizophrenia', 'delusions', 'hallucinations',\n",
    "#     'anorexia', 'bulimia', 'binge eating','addiction', \n",
    "#     'obsessive compulsive disorder', 'OCD', 'borderline personality', 'antisocial', \n",
    "#     'narcissistic','PTSD', 'trauma', 'stress',\n",
    "#     'dissociative identity', 'dissociative_identity', 'amnesia',\n",
    "#     'psychotic', 'depressive', 'suicide', 'suicidal'\n",
    "#     'mentalhealth', 'mental_health',\n",
    "# ]\n"
   ]
  },
  {
   "cell_type": "code",
   "execution_count": 15,
   "id": "50decb4a-1c88-486a-9f04-c42a44f71d61",
   "metadata": {},
   "outputs": [
    {
     "name": "stderr",
     "output_type": "stream",
     "text": [
      "                                                                                \r"
     ]
    },
    {
     "name": "stdout",
     "output_type": "stream",
     "text": [
      "+--------------+-----+\n",
      "|       keyword|count|\n",
      "+--------------+-----+\n",
      "|    depression|   89|\n",
      "|       anxiety|   30|\n",
      "|       bipolar|   26|\n",
      "| schizophrenia|    3|\n",
      "|           ocd|    3|\n",
      "|          ptsd|    3|\n",
      "|    moodswings|    1|\n",
      "|        phobia|    1|\n",
      "|   mood_swings|    1|\n",
      "|         panic|    1|\n",
      "|       bulimia|    1|\n",
      "|      anorexia|    1|\n",
      "|hallucinations|    1|\n",
      "|     delusions|    1|\n",
      "|     addiction|    1|\n",
      "|  binge_eating|    1|\n",
      "|       suicide|    1|\n",
      "|        trauma|    1|\n",
      "|     psychotic|    1|\n",
      "|        stress|    1|\n",
      "+--------------+-----+\n",
      "only showing top 20 rows\n",
      "\n"
     ]
    }
   ],
   "source": [
    "from pyspark.sql.functions import lower, trim\n",
    "\n",
    "# preprocess subreddit column\n",
    "subset_data = subset_data.withColumn('subreddit', lower(trim(col('subreddit'))))\n",
    "\n",
    "# Create a DataFrame from the list of general keywords\n",
    "keywords_df = spark_session.createDataFrame([(k,) for k in general_keywords], ['keyword'])\n",
    "\n",
    "# Make sure that the keywords are lowercased\n",
    "keywords_df = keywords_df.withColumn('keyword', lower(col('keyword')))\n",
    "\n",
    "# Count the occurrences of each subreddit keyword\n",
    "# Ensure that the join condition is based on the normalized 'subreddit' column\n",
    "keyword_counts_data = (\n",
    "    subset_data\n",
    "    .join(keywords_df, col('subreddit') == col('keyword'), 'right_outer')\n",
    "    .groupBy('keyword')\n",
    "    .count()\n",
    "    .orderBy('count', ascending=False)\n",
    ")\n",
    "\n",
    "# Show the result\n",
    "keyword_counts_data.show()"
   ]
  },
  {
   "cell_type": "code",
   "execution_count": 20,
   "id": "a523da08-74c0-4b27-83a3-d7d39af6bd4f",
   "metadata": {},
   "outputs": [
    {
     "name": "stderr",
     "output_type": "stream",
     "text": [
      "                                                                                \r"
     ]
    },
    {
     "data": {
      "image/png": "[encoded data removed]",
      "text/plain": [
       "<Figure size 800x600 with 1 Axes>"
      ]
     },
     "metadata": {},
     "output_type": "display_data"
    }
   ],
   "source": [
    "import matplotlib.pyplot as plt\n",
    "\n",
    "# convert PySpark dataframe to pandas datafraame\n",
    "keyword_counts_pandas = keyword_counts_data.toPandas()\n",
    "\n",
    "total_keywords = len(keyword_counts_pandas)\n",
    "# generate random colors for each keyword\n",
    "colors_list = np.random.rand(total_keywords, 3)\n",
    "\n",
    "plt.figure(figsize=(18, 6))\n",
    "plt.bar(keyword_counts_pandas['keyword'], keyword_counts_pandas['count'], color=colors_list)\n",
    "plt.xlabel('Keyword')\n",
    "plt.ylabel('Count')\n",
    "plt.title('Count of Keywords')\n",
    "plt.xticks(rotation=90)\n",
    "plt.show()"
   ]
  },
  {
   "cell_type": "code",
   "execution_count": 19,
   "id": "67ff64d2-0b7e-4090-98ec-a8a83862ead0",
   "metadata": {},
   "outputs": [
    {
     "name": "stderr",
     "output_type": "stream",
     "text": [
      "                                                                                \r"
     ]
    },
    {
     "name": "stdout",
     "output_type": "stream",
     "text": [
      "+--------------+-----+\n",
      "|keyword       |count|\n",
      "+--------------+-----+\n",
      "|panic         |974  |\n",
      "|trauma        |359  |\n",
      "|stress        |1594 |\n",
      "|anorexia      |27   |\n",
      "|bulimia       |11   |\n",
      "|depression    |987  |\n",
      "|suicide       |594  |\n",
      "|anxiety       |672  |\n",
      "|phobia        |165  |\n",
      "|bipolar       |141  |\n",
      "|addiction     |364  |\n",
      "|delusions     |46   |\n",
      "|hallucinations|71   |\n",
      "|amnesia       |46   |\n",
      "|borderline    |165  |\n",
      "|schizophrenia |58   |\n",
      "|psychotic     |99   |\n",
      "|depressive    |70   |\n",
      "|antisocial    |37   |\n",
      "|narcissistic  |56   |\n",
      "+--------------+-----+\n",
      "only showing top 20 rows\n",
      "\n"
     ]
    },
    {
     "name": "stderr",
     "output_type": "stream",
     "text": [
      "[Stage 40:=====================================================>(146 + 1) / 147]\r"
     ]
    },
    {
     "name": "stdout",
     "output_type": "stream",
     "text": [
      "           keyword  count\n",
      "0            panic    984\n",
      "1           trauma    350\n",
      "2           stress   1596\n",
      "3         anorexia     27\n",
      "4          bulimia     10\n",
      "5       depression    978\n",
      "6          suicide    572\n",
      "7          anxiety    711\n",
      "8           phobia    177\n",
      "9          bipolar    121\n",
      "10       addiction    326\n",
      "11       delusions     45\n",
      "12  hallucinations     84\n",
      "13         amnesia     47\n",
      "14      borderline    157\n",
      "15   schizophrenia     50\n",
      "16       psychotic     96\n",
      "17      depressive     65\n",
      "18      antisocial     41\n",
      "19    narcissistic     43\n",
      "20      moodswings      1\n"
     ]
    },
    {
     "name": "stderr",
     "output_type": "stream",
     "text": [
      "                                                                                \r"
     ]
    }
   ],
   "source": [
    "broadcasted_keywords = spark_session.sparkContext.broadcast(general_keywords)\n",
    "\n",
    "def filter_keywords(content, keywords):\n",
    "    return [keyword for keyword in keywords if keyword in content]\n",
    "\n",
    "# Register the UDF with Spark\n",
    "filter_keywords_udf = udf(lambda content: filter_keywords(content, broadcasted_keywords.value), ArrayType(StringType()))\n",
    "\n",
    "# Apply the UDF to create the keywords_present column\n",
    "subset_data = subset_data.withColumn(\"keywords_present\", filter_keywords_udf(col('content')))\n",
    "\n",
    "# Explode the keywords_present array into a new row for each keyword present per content\n",
    "subset_data = subset_data.withColumn(\"keyword\", explode(\"keywords_present\"))\n",
    "\n",
    "# Count the occurrences of each keyword\n",
    "keyword_counts_df = subset_data.groupBy('keyword').count()\n",
    "\n",
    "# Show the results\n",
    "keyword_counts_df.show(truncate=False)"
   ]
  },
  {
   "cell_type": "code",
   "execution_count": 22,
   "id": "0b834966-e8f7-4ae7-8098-c8a85a93c9a9",
   "metadata": {},
   "outputs": [
    {
     "name": "stderr",
     "output_type": "stream",
     "text": [
      "                                                                                \r"
     ]
    },
    {
     "data": {
      "image/png": "[encoded data removed]",
      "text/plain": [
       "<Figure size 1200x800 with 1 Axes>"
      ]
     },
     "metadata": {},
     "output_type": "display_data"
    }
   ],
   "source": [
    "# Sort the DataFrame by count in descending order\n",
    "keyword_counts_df = keyword_counts_df.orderBy(col('count').desc())\n",
    "\n",
    "# Collect the data to the driver node\n",
    "keyword_counts_data = keyword_counts_df.collect()\n",
    "\n",
    "# Now keyword_counts_data is a list of Rows, you can convert it to a dictionary or directly to lists to plot it.\n",
    "keywords = [row['keyword'] for row in keyword_counts_data]\n",
    "counts = [row['count'] for row in keyword_counts_data]\n",
    "\n",
    "# Use matplotlib to plot the data\n",
    "import matplotlib.pyplot as plt\n",
    "\n",
    "plt.figure(figsize=(12, 8))\n",
    "plt.barh(keywords[::-1], counts[::-1])  # Reverse the lists to have the largest count at the top\n",
    "plt.xlabel('Counts')\n",
    "plt.ylabel('Keywords')\n",
    "plt.title('Keyword Occurrences')\n",
    "plt.tight_layout()  # Adjusts plot to ensure everything fits without overlapping\n",
    "plt.show()\n"
   ]
  },
  {
   "cell_type": "code",
   "execution_count": 12,
   "id": "9eeac6d7-ea5f-49f5-9ffb-7a2c729b9367",
   "metadata": {},
   "outputs": [
    {
     "name": "stderr",
     "output_type": "stream",
     "text": [
      "                                                                                \r"
     ]
    },
    {
     "name": "stdout",
     "output_type": "stream",
     "text": [
      "+-------+-----+------+----------+-------+----------+-----------+-------------+---------+--------------+--------+-------+------------+---------+---------------------------+-----------------------------+---+----------+----------+------------+----+------+------+---------------------+-------+---------+----------+-------+--------------------+-------------+\n",
      "|anxiety|panic|phobia|depression|bipolar|moodswings|mood_swings|schizophrenia|delusions|hallucinations|anorexia|bulimia|binge_eating|addiction|obsessivecompulsivedisorder|obsessive_compulsive_disorder|OCD|borderline|antisocial|narcissistic|PTSD|trauma|stress|dissociative_identity|amnesia|psychotic|depressive|suicide|suicidalmentalhealth|mental_health|\n",
      "+-------+-----+------+----------+-------+----------+-----------+-------------+---------+--------------+--------+-------+------------+---------+---------------------------+-----------------------------+---+----------+----------+------------+----+------+------+---------------------+-------+---------+----------+-------+--------------------+-------------+\n",
      "|711    |984  |177   |978       |121    |1         |0          |50           |45       |84            |27      |10     |0           |326      |0                          |0                            |0  |157       |41        |43          |0   |350   |1596  |0                    |47     |96       |65        |572    |0                   |0            |\n",
      "+-------+-----+------+----------+-------+----------+-----------+-------------+---------+--------------+--------+-------+------------+---------+---------------------------+-----------------------------+---+----------+----------+------------+----+------+------+---------------------+-------+---------+----------+-------+--------------------+-------------+\n",
      "\n"
     ]
    },
    {
     "name": "stderr",
     "output_type": "stream",
     "text": [
      "[Stage 16:=====================================================>(146 + 1) / 147]\r"
     ]
    },
    {
     "name": "stdout",
     "output_type": "stream",
     "text": [
      "   anxiety  panic  phobia  depression  bipolar  moodswings  mood_swings  \\\n",
      "0      699    984     177         984      114           0            0   \n",
      "\n",
      "   schizophrenia  delusions  hallucinations  ...  PTSD  trauma  stress  \\\n",
      "0             67         46              92  ...     0     381    1598   \n",
      "\n",
      "   dissociative_identity  amnesia  psychotic  depressive  suicide  \\\n",
      "0                      0       34         98          61      582   \n",
      "\n",
      "   suicidalmentalhealth  mental_health  \n",
      "0                     0              0  \n",
      "\n",
      "[1 rows x 30 columns]\n"
     ]
    },
    {
     "name": "stderr",
     "output_type": "stream",
     "text": [
      "                                                                                \r"
     ]
    }
   ],
   "source": [
    "from pyspark.sql.functions import trim, expr\n",
    "\n",
    "# Preprocess the content column (convert to lowercase and trim whitespace)\n",
    "subset_data = subset_data.withColumn('content', lower(trim(col('content'))))\n",
    "\n",
    "# Combine all keywords into a single expression that checks for their presence\n",
    "# This creates a boolean column for each keyword indicating its presence in the content\n",
    "for keyword in general_keywords:\n",
    "    normalized_keyword = keyword.replace(\" \", \"_\")  # Replace spaces with underscores for column naming\n",
    "    subset_data = subset_data.withColumn(normalized_keyword, expr(f\"CONTAINS(content, '{keyword}')\"))\n",
    "\n",
    "# Aggregate the results by summing the boolean flags (true=1, false=0) for each keyword\n",
    "# This avoids the need to scan the dataset multiple times\n",
    "aggregation_exprs = [sum(col(keyword.replace(\" \", \"_\")).cast(\"integer\")).alias(keyword.replace(\" \", \"_\")) for keyword in general_keywords]\n",
    "keyword_counts_df = subset_data.agg(*aggregation_exprs)\n",
    "\n",
    "keyword_counts_df.show(truncate=False)\n",
    "\n",
    "# Optionally convert to Pandas DataFrame for easier handling/display\n",
    "keyword_counts_pandas = keyword_counts_df.toPandas()\n",
    "print(keyword_counts_pandas)\n"
   ]
  },
  {
   "cell_type": "code",
   "execution_count": 38,
   "id": "7bf63580-1cd0-49e4-8e95-5424f49e78e2",
   "metadata": {},
   "outputs": [],
   "source": [
    "# # convert PySpark dataframe to Pandas dataframe\n",
    "# content_counts_pandas = content_counts_data.toPandas()\n",
    "\n",
    "# plt.figure(figsize=(10, 6))\n",
    "# plt.bar(content_counts_pandas['content_word'], content_counts_pandas['count'], color=colors_list)\n",
    "# plt.xlabel('Keyword')\n",
    "# plt.ylabel('Count')\n",
    "# plt.title('Count of Keywords')\n",
    "# plt.xticks(rotation=90)\n",
    "# plt.show()"
   ]
  }
 ],
 "metadata": {
  "kernelspec": {
   "display_name": "Python 3 (ipykernel)",
   "language": "python",
   "name": "python3"
  },
  "language_info": {
   "codemirror_mode": {
    "name": "ipython",
    "version": 3
   },
   "file_extension": ".py",
   "mimetype": "text/x-python",
   "name": "python",
   "nbconvert_exporter": "python",
   "pygments_lexer": "ipython3",
   "version": "3.8.10"
  }
 },
 "nbformat": 4,
 "nbformat_minor": 5
}
