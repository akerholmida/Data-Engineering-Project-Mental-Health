{
 "cells": [
  {
   "cell_type": "code",
   "execution_count": 1,
   "id": "9371ae21-647e-40c4-9c57-3b33fcebb5c6",
   "metadata": {},
   "outputs": [
    {
     "name": "stderr",
     "output_type": "stream",
     "text": [
      "Setting default log level to \"WARN\".\n",
      "To adjust logging level use sc.setLogLevel(newLevel). For SparkR, use setLogLevel(newLevel).\n",
      "24/03/03 13:06:15 WARN NativeCodeLoader: Unable to load native-hadoop library for your platform... using builtin-java classes where applicable\n"
     ]
    }
   ],
   "source": [
    "import numpy as np # linear algebra\n",
    "import pandas as pd # data processing, CSV file I/O (e.g. pd.read_csv)\n",
    "import pyspark\n",
    "from pyspark import SparkConf, SparkContext\n",
    "from pyspark.sql import SparkSession, SQLContext\n",
    "from pyspark.sql.types import *\n",
    "from pyspark.sql.functions import *\n",
    "spark_session = SparkSession\\\n",
    "        .builder\\\n",
    "        .master(\"spark://192.168.2.33:7077\") \\\n",
    "        .appName(\"IdaAkerholm_1\")\\\n",
    "        .config(\"spark.dynamicAllocation.enabled\", True)\\\n",
    "        .config(\"spark.dynamicAllocation.shuffleTracking.enabled\",True)\\\n",
    "        .config(\"spark.shuffle.service.enabled\", False)\\\n",
    "        .config(\"spark.dynamicAllocation.executorIdleTimeout\",\"30s\")\\\n",
    "        .config(\"spark.executor.cores\",2)\\\n",
    "        .config(\"spark.driver.port\",9999)\\\n",
    "        .config(\"spark.blockManager.port\",10005)\\\n",
    "        .getOrCreate()\n",
    "\n",
    "        # RDD API\n",
    "spark_context = spark_session.sparkContext\n",
    "\n",
    "spark_context.setLogLevel(\"ERROR\")"
   ]
  },
  {
   "cell_type": "code",
   "execution_count": 2,
   "id": "db9f7379-740c-4205-b2e5-52b66580e132",
   "metadata": {},
   "outputs": [
    {
     "name": "stderr",
     "output_type": "stream",
     "text": [
      "/home/ubuntu/.local/lib/python3.8/site-packages/pyspark/sql/context.py:113: FutureWarning: Deprecated in 3.0.0. Use SparkSession.builder.getOrCreate() instead.\n",
      "  warnings.warn(\n"
     ]
    },
    {
     "data": {
      "text/plain": [
       "<pyspark.sql.context.SQLContext at 0x7f50d46a6d00>"
      ]
     },
     "execution_count": 2,
     "metadata": {},
     "output_type": "execute_result"
    }
   ],
   "source": [
    "sqlContext = SQLContext(spark_session.sparkContext)\n",
    "sqlContext"
   ]
  },
  {
   "cell_type": "code",
   "execution_count": 3,
   "id": "93e6abd5-78d1-4152-81ca-011599a95be0",
   "metadata": {},
   "outputs": [
    {
     "name": "stderr",
     "output_type": "stream",
     "text": [
      "                                                                                \r"
     ]
    }
   ],
   "source": [
    "reddit_df = sqlContext.read.json(\"/home/ubuntu/data/corpus-webis-tldr-17.json\")\n"
   ]
  },
  {
   "cell_type": "code",
   "execution_count": 4,
   "id": "9c926615-90bf-4aa8-97eb-214b318e7e65",
   "metadata": {},
   "outputs": [
    {
     "name": "stdout",
     "output_type": "stream",
     "text": [
      "root\n",
      " |-- author: string (nullable = true)\n",
      " |-- body: string (nullable = true)\n",
      " |-- content: string (nullable = true)\n",
      " |-- content_len: long (nullable = true)\n",
      " |-- id: string (nullable = true)\n",
      " |-- normalizedBody: string (nullable = true)\n",
      " |-- subreddit: string (nullable = true)\n",
      " |-- subreddit_id: string (nullable = true)\n",
      " |-- summary: string (nullable = true)\n",
      " |-- summary_len: long (nullable = true)\n",
      " |-- title: string (nullable = true)\n",
      "\n"
     ]
    }
   ],
   "source": [
    "reddit_df.printSchema()\n"
   ]
  },
  {
   "cell_type": "code",
   "execution_count": 5,
   "id": "e61570ea-2c5c-4870-ac54-a00a00feac91",
   "metadata": {},
   "outputs": [
    {
     "name": "stdout",
     "output_type": "stream",
     "text": [
      "+----------------+--------------------+--------------------+-----------+-------+--------------------+---------+------------+--------------------+-----------+-----+\n",
      "|          author|                body|             content|content_len|     id|      normalizedBody|subreddit|subreddit_id|             summary|summary_len|title|\n",
      "+----------------+--------------------+--------------------+-----------+-------+--------------------+---------+------------+--------------------+-----------+-----+\n",
      "|raysofdarkmatter|I think it should...|I think it should...|        178|c69al3r|I think it should...|     math|    t5_2qh0n|Shifting seasonal...|          8| NULL|\n",
      "+----------------+--------------------+--------------------+-----------+-------+--------------------+---------+------------+--------------------+-----------+-----+\n",
      "only showing top 1 row\n",
      "\n"
     ]
    }
   ],
   "source": [
    "reddit_df.show(1)"
   ]
  },
  {
   "cell_type": "code",
   "execution_count": 6,
   "id": "fa560d7c-98ab-4238-8e90-7e4b23a899b7",
   "metadata": {},
   "outputs": [
    {
     "name": "stderr",
     "output_type": "stream",
     "text": [
      "                                                                                \r"
     ]
    },
    {
     "data": {
      "text/plain": [
       "3848330"
      ]
     },
     "execution_count": 6,
     "metadata": {},
     "output_type": "execute_result"
    }
   ],
   "source": [
    "reddit_df.count()"
   ]
  },
  {
   "cell_type": "code",
   "execution_count": 7,
   "id": "7c70ec22-fd2c-4ea4-b66c-5b2b1ff77973",
   "metadata": {},
   "outputs": [],
   "source": [
    "#samp_df = reddit_df.sample(withReplacement=False, fraction=0.1)"
   ]
  },
  {
   "cell_type": "code",
   "execution_count": 8,
   "id": "883e1608-6915-47d5-a78e-84426ad6cf02",
   "metadata": {},
   "outputs": [],
   "source": [
    "#df = samp_df.cache()"
   ]
  },
  {
   "cell_type": "code",
   "execution_count": 9,
   "id": "fa192b7f-c7dd-4b7c-bfd8-5afcd00ae696",
   "metadata": {},
   "outputs": [],
   "source": [
    "#df.count()"
   ]
  },
  {
   "cell_type": "code",
   "execution_count": 10,
   "id": "f774e771-a8f9-42fc-b427-9a03f103e659",
   "metadata": {},
   "outputs": [],
   "source": [
    "df = reddit_df"
   ]
  },
  {
   "cell_type": "code",
   "execution_count": 11,
   "id": "dc756b54-1f49-4e71-8ef0-7bde8b1bbce5",
   "metadata": {},
   "outputs": [
    {
     "data": {
      "text/plain": [
       "147"
      ]
     },
     "execution_count": 11,
     "metadata": {},
     "output_type": "execute_result"
    }
   ],
   "source": [
    "df.rdd.getNumPartitions()"
   ]
  },
  {
   "cell_type": "code",
   "execution_count": 12,
   "id": "6ae376d2-69ba-45a3-8131-1c71b9c92a64",
   "metadata": {},
   "outputs": [],
   "source": [
    "df2 = df.drop(\"content_len\",\"id\",\"normalizedBody\",\"subreddit_id\",\"summary_len\")"
   ]
  },
  {
   "cell_type": "code",
   "execution_count": 13,
   "id": "97cfc261-48e3-4058-8ebe-9047e491363d",
   "metadata": {},
   "outputs": [
    {
     "name": "stdout",
     "output_type": "stream",
     "text": [
      "root\n",
      " |-- author: string (nullable = true)\n",
      " |-- body: string (nullable = true)\n",
      " |-- content: string (nullable = true)\n",
      " |-- subreddit: string (nullable = true)\n",
      " |-- summary: string (nullable = true)\n",
      " |-- title: string (nullable = true)\n",
      "\n"
     ]
    }
   ],
   "source": [
    "df2.printSchema()"
   ]
  },
  {
   "cell_type": "code",
   "execution_count": 14,
   "id": "b7e6f584-5cd5-4b36-85a4-cb1acb3123e5",
   "metadata": {},
   "outputs": [
    {
     "name": "stderr",
     "output_type": "stream",
     "text": [
      "[Stage 7:>                                                          (0 + 1) / 1]\r"
     ]
    },
    {
     "name": "stdout",
     "output_type": "stream",
     "text": [
      "+--------------------+-----+\n",
      "|           subreddit|count|\n",
      "+--------------------+-----+\n",
      "|               anime| 5868|\n",
      "|          MensRights| 5136|\n",
      "|              travel| 3076|\n",
      "|londonfootballmeetup|    6|\n",
      "|               HPMOR|  207|\n",
      "|     youtubecomments|    8|\n",
      "|        SaltLakeCity|  238|\n",
      "| UnresolvedMysteries|  121|\n",
      "|          MLBTheShow|  173|\n",
      "|           metro2033|   16|\n",
      "|        marvelheroes|  416|\n",
      "|             DRKCoin|   26|\n",
      "|              AdPorn|   17|\n",
      "|          costa_rica|   31|\n",
      "|          television| 1489|\n",
      "|  Anarcho_Capitalism| 1400|\n",
      "|    fatpeoplestories| 4926|\n",
      "|       SanJoseSharks|  121|\n",
      "|              Hawaii|  248|\n",
      "|             wilfred|   63|\n",
      "+--------------------+-----+\n",
      "only showing top 20 rows\n",
      "\n"
     ]
    },
    {
     "name": "stderr",
     "output_type": "stream",
     "text": [
      "                                                                                \r"
     ]
    }
   ],
   "source": [
    "#Count number of times each subreddit occur\n",
    "df_subreddit_count = df2.groupBy(\"subreddit\").count()\n",
    "df_subreddit_count.show()"
   ]
  },
  {
   "cell_type": "code",
   "execution_count": 15,
   "id": "9a7d2e77-0f34-470f-9643-05cc4db1f613",
   "metadata": {},
   "outputs": [
    {
     "name": "stderr",
     "output_type": "stream",
     "text": [
      "                                                                                \r"
     ]
    },
    {
     "data": {
      "text/plain": [
       "29651"
      ]
     },
     "execution_count": 15,
     "metadata": {},
     "output_type": "execute_result"
    }
   ],
   "source": [
    "df_subreddit_count.count()"
   ]
  },
  {
   "cell_type": "code",
   "execution_count": 16,
   "id": "c67eadad-4818-4a8a-beb1-a3fb89fd9db8",
   "metadata": {},
   "outputs": [
    {
     "name": "stderr",
     "output_type": "stream",
     "text": [
      "[Stage 16:>                                                         (0 + 1) / 1]\r"
     ]
    },
    {
     "name": "stdout",
     "output_type": "stream",
     "text": [
      "+----------+-----+\n",
      "| subreddit|count|\n",
      "+----------+-----+\n",
      "|depression|11365|\n",
      "+----------+-----+\n",
      "\n"
     ]
    },
    {
     "name": "stderr",
     "output_type": "stream",
     "text": [
      "                                                                                \r"
     ]
    }
   ],
   "source": [
    "df3= df_subreddit_count.filter(df_subreddit_count['subreddit']=='depression')\n",
    "df3.show()"
   ]
  },
  {
   "cell_type": "code",
   "execution_count": 17,
   "id": "a11ece59-33d1-4256-93f1-522356b24a76",
   "metadata": {},
   "outputs": [
    {
     "name": "stderr",
     "output_type": "stream",
     "text": [
      "[Stage 19:>                                                         (0 + 1) / 1]\r"
     ]
    },
    {
     "name": "stdout",
     "output_type": "stream",
     "text": [
      "+------------+-----+\n",
      "|   subreddit|count|\n",
      "+------------+-----+\n",
      "|mentalhealth|  623|\n",
      "+------------+-----+\n",
      "\n"
     ]
    },
    {
     "name": "stderr",
     "output_type": "stream",
     "text": [
      "                                                                                \r"
     ]
    }
   ],
   "source": [
    "df3= df_subreddit_count.filter(df_subreddit_count['subreddit']=='mentalhealth')\n",
    "df3.show()"
   ]
  },
  {
   "cell_type": "code",
   "execution_count": 18,
   "id": "62c203ea-b89e-4d4c-bc5b-ca80ddd73cea",
   "metadata": {},
   "outputs": [
    {
     "name": "stderr",
     "output_type": "stream",
     "text": [
      "[Stage 20:=====================================================>(146 + 1) / 147]\r"
     ]
    },
    {
     "name": "stdout",
     "output_type": "stream",
     "text": [
      "+---------+-----+\n",
      "|subreddit|count|\n",
      "+---------+-----+\n",
      "|  Anxiety| 4126|\n",
      "+---------+-----+\n",
      "\n"
     ]
    },
    {
     "name": "stderr",
     "output_type": "stream",
     "text": [
      "                                                                                \r"
     ]
    }
   ],
   "source": [
    "df3= df_subreddit_count.filter(df_subreddit_count['subreddit']=='Anxiety')\n",
    "df3.show()"
   ]
  },
  {
   "cell_type": "code",
   "execution_count": null,
   "id": "86a78b75-ea85-4333-b3f7-06fe84623284",
   "metadata": {},
   "outputs": [],
   "source": []
  }
 ],
 "metadata": {
  "kernelspec": {
   "display_name": "Python 3 (ipykernel)",
   "language": "python",
   "name": "python3"
  },
  "language_info": {
   "codemirror_mode": {
    "name": "ipython",
    "version": 3
   },
   "file_extension": ".py",
   "mimetype": "text/x-python",
   "name": "python",
   "nbconvert_exporter": "python",
   "pygments_lexer": "ipython3",
   "version": "3.8.10"
  }
 },
 "nbformat": 4,
 "nbformat_minor": 5
}
